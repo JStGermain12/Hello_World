{
  "nbformat": 4,
  "nbformat_minor": 0,
  "metadata": {
    "colab": {
      "provenance": [],
      "authorship_tag": "ABX9TyMA9GhpqvBcUmK8UFXX8kKj",
      "include_colab_link": true
    },
    "kernelspec": {
      "name": "python3",
      "display_name": "Python 3"
    },
    "language_info": {
      "name": "python"
    }
  },
  "cells": [
    {
      "cell_type": "markdown",
      "metadata": {
        "id": "view-in-github",
        "colab_type": "text"
      },
      "source": [
        "<a href=\"https://colab.research.google.com/github/JStGermain12/Hello_World/blob/main/Hello_World.ipynb\" target=\"_parent\"><img src=\"https://colab.research.google.com/assets/colab-badge.svg\" alt=\"Open In Colab\"/></a>"
      ]
    },
    {
      "cell_type": "code",
      "execution_count": null,
      "metadata": {
        "id": "Qq8cE0NCaEv-"
      },
      "outputs": [],
      "source": [
        "# Hello World Program\n",
        "\n",
        "This is a simple Python program that prints \"Hello, World!\" to the console.\n",
        "\n",
        "```python\n",
        "# Simple Python Hello World Statement\n",
        "print(\"Hello, World!\")\n",
        "```"
      ]
    }
  ]
}